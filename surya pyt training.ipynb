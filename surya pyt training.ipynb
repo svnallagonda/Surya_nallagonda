{
 "cells": [
  {
   "cell_type": "code",
   "execution_count": 1,
   "metadata": {},
   "outputs": [
    {
     "name": "stdout",
     "output_type": "stream",
     "text": [
      "0\n",
      "2\n",
      "4\n",
      "6\n",
      "8\n"
     ]
    }
   ],
   "source": [
    "for i in range(0,10,2):\n",
    "    print(i)"
   ]
  },
  {
   "cell_type": "code",
   "execution_count": 7,
   "metadata": {},
   "outputs": [
    {
     "name": "stdout",
     "output_type": "stream",
     "text": [
      "go\n"
     ]
    }
   ],
   "source": [
    "#traffic lights\n",
    "ts=str(input(\"Enter character:\"))\n",
    "if(ts=='g'):\n",
    "    print(\"go\")\n",
    "elif(ts=='r'):\n",
    "    print(\"stop\")\n",
    "else:\n",
    "    print(\"Get ready\")"
   ]
  },
  {
   "cell_type": "code",
   "execution_count": 28,
   "metadata": {},
   "outputs": [
    {
     "name": "stdout",
     "output_type": "stream",
     "text": [
      "31000\n",
      "10000\n",
      "Aman has surplus cash reserve at the month end\n",
      "21000\n"
     ]
    }
   ],
   "source": [
    "rr=12000\n",
    "mm=4000\n",
    "sc=3000\n",
    "ifd=3000\n",
    "mc=4000\n",
    "pt=2000\n",
    "bonus=8000\n",
    "gr=5000\n",
    "income_stream=rr+sc+ifd+bonus+gr\n",
    "expenditure=mm+mc+pt\n",
    "print(income_stream)\n",
    "print(expenditure)\n",
    "if(income_stream > expenditure):\n",
    "      print(\"Aman has surplus cash reserve at the month end\")\n",
    "elif(income_stream < expenditure):\n",
    "      print(\"Aman has deficit amount at the month end\")\n",
    "else:\n",
    "      print(\"Aman has neither surplus cash nor deflicit amount\")\n",
    "print(income_stream - expenditure)"
   ]
  },
  {
   "cell_type": "code",
   "execution_count": null,
   "metadata": {},
   "outputs": [
    {
     "name": "stdout",
     "output_type": "stream",
     "text": [
      "the number is strong number\n"
     ]
    }
   ],
   "source": [
    "#strong & weak num\n",
    "num=int(input(\"Enter a num:\"))\n",
    "if (num%2==0):\n",
    "    print(\"the number is strong number\")\n",
    "else:\n",
    "    print(\"the number is weak number\")"
   ]
  },
  {
   "cell_type": "code",
   "execution_count": null,
   "metadata": {},
   "outputs": [
    {
     "name": "stdout",
     "output_type": "stream",
     "text": [
      "Non-negative\n"
     ]
    }
   ],
   "source": [
    "#guessing the num\n",
    "num=int(input(\"enter a num\"))\n",
    "if(num>0):\n",
    "    print(\"Non-negative\")\n",
    "elif(num<0):\n",
    "    print(\"Negative\")\n",
    "else:\n",
    "    print(\"Neutral\")"
   ]
  },
  {
   "cell_type": "code",
   "execution_count": null,
   "metadata": {},
   "outputs": [
    {
     "name": "stdout",
     "output_type": "stream",
     "text": [
      "441\n",
      "9\n",
      "the area required for carpet is:\n",
      "432\n"
     ]
    }
   ],
   "source": [
    "#area of carpet\n",
    "y=int(input(\"enter side of square hall\"))\n",
    "x=int(input(\"enter side of suquare table\"))\n",
    "if(x>=y):\n",
    "    print(\"invalid value of square table\")\n",
    "ya=y*y\n",
    "print(ya)\n",
    "xa=x*x\n",
    "print(xa)\n",
    "ca=ya-xa\n",
    "print(\"the area required for carpet is:\")\n",
    "print(ca)"
   ]
  },
  {
   "cell_type": "code",
   "execution_count": null,
   "metadata": {},
   "outputs": [
    {
     "name": "stdout",
     "output_type": "stream",
     "text": [
      "5\n"
     ]
    }
   ],
   "source": [
    "#chocolate distrubution\n",
    "c=int(input(\"Enter the no of chocolates\"))\n",
    "n=int(input(\"Enter the no of students\"))\n",
    "p=c/n\n",
    "p=int(p)\n",
    "print(c-n*p)\n"
   ]
  },
  {
   "cell_type": "code",
   "execution_count": null,
   "metadata": {},
   "outputs": [
    {
     "name": "stdout",
     "output_type": "stream",
     "text": [
      "15846\n"
     ]
    }
   ],
   "source": [
    "#perimeter of rectangle\n",
    "l=int(input(\"Enter the length:\"))\n",
    "b=int(input(\"Enter the breadth:\"))\n",
    "print(2*(l+b))"
   ]
  },
  {
   "cell_type": "code",
   "execution_count": 27,
   "metadata": {},
   "outputs": [
    {
     "name": "stdout",
     "output_type": "stream",
     "text": [
      "24\n"
     ]
    }
   ],
   "source": [
    "#mxn cake\n",
    "m=int(input(\"Enter the m value:\"))\n",
    "n=int(input(\"Enter the n value:\"))\n",
    "p=m*n-1\n",
    "print(p)"
   ]
  },
  {
   "cell_type": "code",
   "execution_count": null,
   "metadata": {},
   "outputs": [
    {
     "name": "stdout",
     "output_type": "stream",
     "text": [
      "temperature is frozen.\n"
     ]
    }
   ],
   "source": [
    "#temperature\n",
    "tem=int(input(\"Enter the temperature:\"))\n",
    "if(tem>28 and tem<42):\n",
    "    print(\"The temperature is moderate.\")\n",
    "elif(tem>42 and tem<50):\n",
    "    print(\"The temperature is extreme.\")\n",
    "elif(tem>0 and tem<=3):\n",
    "    print(\"The temperature is low.\")\n",
    "else:\n",
    "    print(\"temperature is frozen.\")\n"
   ]
  },
  {
   "cell_type": "code",
   "execution_count": null,
   "metadata": {},
   "outputs": [
    {
     "name": "stdout",
     "output_type": "stream",
     "text": [
      "9.22\n"
     ]
    }
   ],
   "source": [
    "#no of people watched the magical show and their avg feed back.output the overall feedback of three shows\n",
    "p1=int(input(\"Enter the no of people who watched show 1:\"))#400\n",
    "afbr1=float(input())#9.8\n",
    "p2=int(input(\"Enter the no of people who watched show 2:\"))#500\n",
    "afbr2=float(input())#9.6\n",
    "p3=int(input(\"Enter the no of people who watched show 3:\"))#100\n",
    "afbr3=float(input())#5\n",
    "ffb=((p1*afbr1)+(p2*afbr2)+(p3*afbr3))/(p1+p2+p3)\n",
    "print(round(ffb, 2))\n"
   ]
  },
  {
   "cell_type": "code",
   "execution_count": null,
   "metadata": {},
   "outputs": [
    {
     "name": "stdout",
     "output_type": "stream",
     "text": [
      "10\n",
      "20\n",
      "20\n",
      "10\n"
     ]
    }
   ],
   "source": [
    "#swapping nums\n",
    "s=int(input())\n",
    "u=int(input())\n",
    "print(s)\n",
    "print(u)\n",
    "temp=s\n",
    "s=u\n",
    "u=temp\n",
    "print(s)\n",
    "print(u)"
   ]
  },
  {
   "cell_type": "code",
   "execution_count": null,
   "metadata": {},
   "outputs": [
    {
     "name": "stdout",
     "output_type": "stream",
     "text": [
      "10 20\n",
      "20 10\n"
     ]
    }
   ],
   "source": [
    "#swapping of numbers\n",
    "s=int(input())\n",
    "u=int(input())\n",
    "print(s,u)\n",
    "s,u=u,s\n",
    "print(s,u)"
   ]
  },
  {
   "cell_type": "code",
   "execution_count": null,
   "metadata": {},
   "outputs": [
    {
     "name": "stdout",
     "output_type": "stream",
     "text": [
      "5.45\n"
     ]
    }
   ],
   "source": [
    "#gain %%\n",
    "cp=int(input())\n",
    "rc=int(input())\n",
    "sp=int(input())\n",
    "gp=((sp-(cp+rc))/(cp+rc))*100\n",
    "print(round(gp, 2))"
   ]
  },
  {
   "cell_type": "code",
   "execution_count": null,
   "metadata": {},
   "outputs": [
    {
     "name": "stdout",
     "output_type": "stream",
     "text": [
      "3\n",
      "the num matches\n",
      "5\n",
      "The num doesnt matches\n",
      "7\n",
      "The num doesnt matches\n",
      "9\n",
      "the num matches\n"
     ]
    }
   ],
   "source": [
    "#number matches\n",
    "n=int(input())\n",
    "for i in range (3,10,2):\n",
    "    print(i)\n",
    "    if(n%i==0):\n",
    "        print(\"the num matches\")\n",
    "    else:\n",
    "        print(\"The num doesnt matches\")"
   ]
  },
  {
   "cell_type": "code",
   "execution_count": 70,
   "metadata": {},
   "outputs": [
    {
     "name": "stdout",
     "output_type": "stream",
     "text": [
      "the center of room is at:\n",
      "18.0 38.0\n"
     ]
    }
   ],
   "source": [
    "#center of room\n",
    "x1=int(input())\n",
    "y1=int(input())\n",
    "s=int(input())\n",
    "x=x1+(s/2)\n",
    "y=y1+(s/2)\n",
    "print(\"the center of room is at:\")\n",
    "print(x,y)"
   ]
  },
  {
   "cell_type": "code",
   "execution_count": 62,
   "metadata": {},
   "outputs": [
    {
     "name": "stdout",
     "output_type": "stream",
     "text": [
      "282.84\n"
     ]
    }
   ],
   "source": [
    "from math import sqrt\n",
    "a=int(input())\n",
    "b=int(input())\n",
    "cr=a*b\n",
    "c=int(input())\n",
    "cs=a*c\n",
    "eoq=sqrt(2*(a*cr)/cs)\n",
    "print(round(eoq, 2))"
   ]
  },
  {
   "cell_type": "code",
   "execution_count": null,
   "metadata": {},
   "outputs": [
    {
     "name": "stdout",
     "output_type": "stream",
     "text": [
      "Attendees on day 1: 35273\n",
      "Attendees on day 2: 70546\n",
      "Attendees on day 3: 17636\n"
     ]
    }
   ],
   "source": [
    "#for a total number of attendees print the individual day attendees\n",
    "y=int(input())\n",
    "x1=int((2*y)/7)\n",
    "x2=int(2*x1)\n",
    "x3=int(x1/2)\n",
    "print(\"Attendees on day 1:\",x1)\n",
    "print(\"Attendees on day 2:\",x2)\n",
    "print(\"Attendees on day 3:\",x3)"
   ]
  },
  {
   "cell_type": "code",
   "execution_count": 3,
   "metadata": {},
   "outputs": [
    {
     "name": "stdout",
     "output_type": "stream",
     "text": [
      "1\n",
      "5\n",
      "1\n",
      "3\n",
      "5\n",
      "7\n",
      "9\n",
      "[1, 3, 5, 7, 9]\n",
      "[9, 7, 5, 3, 1]\n"
     ]
    }
   ],
   "source": [
    "# Creating an ordered list of numbers\n",
    "numbers = [1, 3, 5, 7, 9]\n",
    "\n",
    "# Accessing elements by index\n",
    "print(numbers[0])  # Output: 1\n",
    "print(numbers[2])  # Output: 5\n",
    "\n",
    "# Iterating over the list\n",
    "for number in numbers:\n",
    "    print(number)\n",
    "\n",
    "# Sorting the list\n",
    "numbers.sort()\n",
    "print(numbers)  # Output: [1, 3, 5, 7, 9]\n",
    "\n",
    "# Reversing the order\n",
    "numbers.reverse()\n",
    "print(numbers)  # Output: [9, 7, 5, 3, 1]"
   ]
  },
  {
   "cell_type": "code",
   "execution_count": 4,
   "metadata": {},
   "outputs": [
    {
     "name": "stdout",
     "output_type": "stream",
     "text": [
      "Fibonacci sequence:\n",
      "0 1 1 2 3 5 8 "
     ]
    }
   ],
   "source": [
    "def fibonacci(n):\n",
    "    if n <= 0:\n",
    "        print(\"Incorrect input\")\n",
    "    elif n == 1:\n",
    "        return 0\n",
    "    elif n == 2:\n",
    "        return 1\n",
    "    else:\n",
    "        return fibonacci(n-1) + fibonacci(n-2)\n",
    "\n",
    "# Get the number of terms from the user\n",
    "nterms = int(input(\"Enter the number of terms: \"))\n",
    "\n",
    "# Check if the input is valid\n",
    "if nterms <= 0:\n",
    "    print(\"Please enter a positive integer\")\n",
    "else:\n",
    "    print(\"Fibonacci sequence:\")\n",
    "    for i in range(1, nterms+1):\n",
    "        print(fibonacci(i), end=\" \")"
   ]
  },
  {
   "cell_type": "code",
   "execution_count": 5,
   "metadata": {},
   "outputs": [
    {
     "name": "stdout",
     "output_type": "stream",
     "text": [
      "The factorial of 5 is 120\n"
     ]
    }
   ],
   "source": [
    "def factorial(n):\n",
    "    if n == 0:\n",
    "        return 1\n",
    "    else:\n",
    "        return n * factorial(n-1)\n",
    "\n",
    "# Get the number from the user\n",
    "num = int(input(\"Enter a non-negative integer: \"))\n",
    "\n",
    "# Check if the input is valid\n",
    "if num < 0:\n",
    "    print(\"Factorial is not defined for negative numbers\")\n",
    "else:\n",
    "    result = factorial(num)\n",
    "    print(\"The factorial of\", num, \"is\", result)"
   ]
  },
  {
   "cell_type": "code",
   "execution_count": 7,
   "metadata": {},
   "outputs": [
    {
     "name": "stdout",
     "output_type": "stream",
     "text": [
      "154 is not an Armstrong number\n"
     ]
    }
   ],
   "source": [
    "def is_armstrong_number(num):\n",
    "    order = len(str(num))\n",
    "    sum = 0\n",
    "    temp = num\n",
    "\n",
    "    while temp > 0:\n",
    "        digit = temp % 10\n",
    "        sum += digit ** order\n",
    "        temp //= 10\n",
    "\n",
    "    return num == sum\n",
    "\n",
    "# Get the number from the user\n",
    "num = int(input(\"Enter a number: \"))\n",
    "\n",
    "if is_armstrong_number(num):\n",
    "    print(num, \"is an Armstrong number\")\n",
    "else:\n",
    "    print(num, \"is not an Armstrong number\")"
   ]
  },
  {
   "cell_type": "code",
   "execution_count": 8,
   "metadata": {},
   "outputs": [
    {
     "name": "stdout",
     "output_type": "stream",
     "text": [
      "Armstrong numbers from 0 to 1000:\n",
      "0\n",
      "1\n",
      "2\n",
      "3\n",
      "4\n",
      "5\n",
      "6\n",
      "7\n",
      "8\n",
      "9\n",
      "153\n",
      "370\n",
      "371\n",
      "407\n"
     ]
    }
   ],
   "source": [
    "def is_armstrong_number(num):\n",
    "    order = len(str(num))\n",
    "    sum = 0\n",
    "    temp = num\n",
    "    while temp > 0:\n",
    "        digit = temp % 10\n",
    "        sum += digit ** order\n",
    "        temp //= 10\n",
    "    return num == sum\n",
    "print(\"Armstrong numbers from 0 to 1000:\")\n",
    "for num in range(1001):\n",
    "    if is_armstrong_number(num):\n",
    "        print(num)"
   ]
  },
  {
   "cell_type": "code",
   "execution_count": 9,
   "metadata": {},
   "outputs": [
    {
     "name": "stdout",
     "output_type": "stream",
     "text": [
      "The reciprocal of 5.0 is 0.2\n"
     ]
    }
   ],
   "source": [
    "def reciprocal(num):\n",
    "    if num == 0:\n",
    "        return None\n",
    "    else:\n",
    "        return 1 / num\n",
    "\n",
    "# Get the number from the user\n",
    "num = float(input(\"Enter a number: \"))\n",
    "\n",
    "result = reciprocal(num)\n",
    "\n",
    "if result is None:\n",
    "    print(\"The reciprocal of 0 is undefined.\")\n",
    "else:\n",
    "    print(\"The reciprocal of\", num, \"is\", result)"
   ]
  },
  {
   "cell_type": "code",
   "execution_count": 13,
   "metadata": {},
   "outputs": [
    {
     "name": "stdout",
     "output_type": "stream",
     "text": [
      "The roots of given equation are:\n",
      "(-2+0.7j) (-2-0.7j)\n"
     ]
    }
   ],
   "source": [
    "import cmath\n",
    "a=int(input())\n",
    "b=int(input())\n",
    "c=int(input())\n",
    "print(\"The roots of given equation are:\")\n",
    "x=(-(b)+(cmath.sqrt((b*b)-4*a*c))/(2*a))\n",
    "y=(-(b)-(cmath.sqrt((b*b)-4*a*c))/(2*a))\n",
    "print(x,y)"
   ]
  },
  {
   "cell_type": "code",
   "execution_count": 14,
   "metadata": {},
   "outputs": [
    {
     "name": "stdout",
     "output_type": "stream",
     "text": [
      "profit\n",
      "4000\n"
     ]
    }
   ],
   "source": [
    "fc=int(input(\"enter the fc value\"))\n",
    "vc=int(input(\"enter the vc value\"))\n",
    "sales=int(input(\"enter sales\"))\n",
    "psa=sales-(fc+vc)\n",
    "if (psa>0):\n",
    "    print(\"profit\")\n",
    "else:\n",
    "    print(\"loss\")\n",
    "print(psa)"
   ]
  },
  {
   "cell_type": "code",
   "execution_count": 16,
   "metadata": {},
   "outputs": [
    {
     "name": "stdout",
     "output_type": "stream",
     "text": [
      "5.29\n"
     ]
    }
   ],
   "source": [
    "total_vc=30000\n",
    "total_sales=37000\n",
    "total_cont_per_unit=total_sales-total_vc\n",
    "bep=total_sales/total_cont_per_unit\n",
    "print(round(bep, 2))"
   ]
  },
  {
   "cell_type": "code",
   "execution_count": 17,
   "metadata": {},
   "outputs": [
    {
     "name": "stdout",
     "output_type": "stream",
     "text": [
      "8.792\n"
     ]
    }
   ],
   "source": [
    "pi=3.14\n",
    "r=14\n",
    "theta=36\n",
    "print(2*pi*r*theta/360) "
   ]
  },
  {
   "cell_type": "code",
   "execution_count": 18,
   "metadata": {},
   "outputs": [
    {
     "name": "stdout",
     "output_type": "stream",
     "text": [
      "5\n",
      "4\n",
      "3\n",
      "2\n",
      "1\n"
     ]
    }
   ],
   "source": [
    "for i in range(5,0,-1):\n",
    "    print(i)"
   ]
  },
  {
   "cell_type": "code",
   "execution_count": null,
   "metadata": {},
   "outputs": [
    {
     "name": "stdout",
     "output_type": "stream",
     "text": [
      "3000.0\n",
      "4000.0\n",
      "2900.0\n",
      "5800.0\n",
      "29000.0\n",
      "13050.0\n",
      "hiranandhani belongs to y category\n"
     ]
    }
   ],
   "source": [
    "bs=int(input(\"enter value\"))#20000\n",
    "DA=bs*0.15\n",
    "print(DA)\n",
    "hra=bs*0.20\n",
    "print(hra)\n",
    "mb=2000\n",
    "gs=bs+DA+hra+mb\n",
    "pf=gs*0.10\n",
    "print(pf)\n",
    "esi=gs*0.20\n",
    "print(esi)\n",
    "it=gs*0.25\n",
    "ns=gs-pf-esi-it\n",
    "print(gs)\n",
    "print(ns)\n",
    "if(ns>40000):\n",
    "    print(\"hiranandani belongs to x category\")\n",
    "else:\n",
    "    print(\"hiranandhani belongs to y category\")"
   ]
  },
  {
   "cell_type": "code",
   "execution_count": 21,
   "metadata": {},
   "outputs": [
    {
     "name": "stdout",
     "output_type": "stream",
     "text": [
      "it is a leap year that contains 29 days in february\n"
     ]
    }
   ],
   "source": [
    "year=int(input(\"enter the year\"))\n",
    "if(year%400==0):\n",
    "    print(\"it is a leap year that contains 29 days in february\")\n",
    "else:\n",
    "    print(\"it is a non leap year that contains 28 days in february\")"
   ]
  },
  {
   "cell_type": "code",
   "execution_count": 22,
   "metadata": {},
   "outputs": [
    {
     "name": "stdout",
     "output_type": "stream",
     "text": [
      "temp is frozen\n",
      "temperature is moderate\n",
      "temp is frozen\n"
     ]
    }
   ],
   "source": [
    "temp1=int(input(\"enter temperature\"))\n",
    "if(temp1>=28 and temp1<42): \n",
    "    print(\"temperature is moderate\")\n",
    "elif(temp1>=42 and temp1<50):\n",
    "    print(\"temperature is extreme\")\n",
    "elif(temp1>0 and temp1<=3):\n",
    "    print(\"temperature is low\")\n",
    "else:\n",
    "    print(\"temp is frozen\")\n",
    "temp2=int(input(\"enter temperature\"))\n",
    "if(temp2>=28 and temp2<42): \n",
    "    print(\"temperature is moderate\")\n",
    "elif(temp2>=42 and temp2<50):\n",
    "    print(\"temperature is extreme\")\n",
    "elif(temp2>0 and temp2<=3):\n",
    "    print(\"temperature is low\")\n",
    "else:\n",
    "    print(\"temp is frozen\")\n",
    "temp3=int(input(\"enter temperature\"))\n",
    "if(temp3>=28 and temp3<42): \n",
    "    print(\"temperature is moderate\")\n",
    "elif(temp3>=42 and temp3<50):\n",
    "    print(\"temperature is extreme\")\n",
    "elif(temp3>0 and temp3<=3):\n",
    "    print(\"temperature is low\")\n",
    "else:\n",
    "    print(\"temp is frozen\")"
   ]
  },
  {
   "cell_type": "code",
   "execution_count": null,
   "metadata": {},
   "outputs": [
    {
     "name": "stdout",
     "output_type": "stream",
     "text": [
      "1.2392336341465238\n",
      "720\n",
      "1\n",
      "1\n",
      "2\n",
      "4.644575595215059\n",
      "2.57\n",
      "25\n",
      "16\n",
      "10\n",
      "30\n",
      "(5, 2)\n"
     ]
    }
   ],
   "source": [
    "import math \n",
    "x=1.5357\n",
    "print(math.sqrt(x))          #to calculate dimentional values\n",
    "print(math.factorial(6))     #recursive computation\n",
    "print(math.trunc(x))         #to remove decimal values beyond a limit\n",
    "print(math.floor(x))         #will provide the lesser round value\n",
    "print(math.ceil(x))          #will provide the higher round values\n",
    "print(math.exp(x))           #to compute exponential values\n",
    "print(round(2.5678, 2))      #displays output to decimal places\n",
    "print(abs(-25))              #used in calculating only positive values\n",
    "print(pow(2,4))              #used for power function calculations\n",
    "print(min(10,20,30))         #to find min values from a num set\n",
    "print(max(10,20,30))         #to find max value from a num set\n",
    "print(divmod(17,3))          #gives a remainder residual value"
   ]
  },
  {
   "cell_type": "code",
   "execution_count": null,
   "metadata": {},
   "outputs": [
    {
     "name": "stdout",
     "output_type": "stream",
     "text": [
      "38772.72\n",
      "38772\n",
      "38772\n",
      "38773\n"
     ]
    }
   ],
   "source": [
    "import math\n",
    "r=int(input())#21cm\n",
    "vol=(4/3)*3.14*(r*r*r)\n",
    "print(vol)\n",
    "print(math.trunc(vol))\n",
    "print(math.floor(vol))\n",
    "print(math.ceil(vol))"
   ]
  },
  {
   "cell_type": "code",
   "execution_count": null,
   "metadata": {},
   "outputs": [
    {
     "name": "stdout",
     "output_type": "stream",
     "text": [
      "2.138089935299395\n"
     ]
    }
   ],
   "source": [
    "#usage of standard deviation in python\n",
    "import statistics\n",
    "\n",
    "data = [2, 4, 4, 4, 5, 5, 7, 9]\n",
    "std_dev = statistics.stdev(data)\n",
    "print(std_dev)"
   ]
  },
  {
   "cell_type": "code",
   "execution_count": null,
   "metadata": {},
   "outputs": [
    {
     "name": "stdout",
     "output_type": "stream",
     "text": [
      "2.0\n"
     ]
    }
   ],
   "source": [
    "#usage of standard deviation in python\n",
    "import numpy as np\n",
    "\n",
    "data = np.array([2, 4, 4, 4, 5, 5, 7, 9])\n",
    "std_dev = np.std(data)\n",
    "print(std_dev)"
   ]
  },
  {
   "cell_type": "code",
   "execution_count": null,
   "metadata": {},
   "outputs": [
    {
     "name": "stdout",
     "output_type": "stream",
     "text": [
      "8.0\n"
     ]
    }
   ],
   "source": [
    "#calculating exponential values in python\n",
    "import math\n",
    "\n",
    "# Define the base and exponent\n",
    "base = 2\n",
    "exponent = 3\n",
    "\n",
    "# Calculate the exponential value\n",
    "result = math.pow(base, exponent)\n",
    "print(result)  # Output: 8"
   ]
  },
  {
   "cell_type": "code",
   "execution_count": null,
   "metadata": {},
   "outputs": [
    {
     "name": "stdout",
     "output_type": "stream",
     "text": [
      "8\n"
     ]
    }
   ],
   "source": [
    "#calculating exponential values in python\n",
    "base = 2\n",
    "exponent = 3\n",
    "\n",
    "# Calculate the exponential value\n",
    "result = base ** exponent\n",
    "print(result)  # Output: 8"
   ]
  },
  {
   "cell_type": "code",
   "execution_count": null,
   "metadata": {},
   "outputs": [
    {
     "name": "stdout",
     "output_type": "stream",
     "text": [
      "[ 8 16 32]\n"
     ]
    }
   ],
   "source": [
    "#calculating exponential values in python\n",
    "import numpy as np\n",
    "\n",
    "base = 2\n",
    "exponent = np.array([3, 4, 5])\n",
    "\n",
    "# Calculate the exponential values for each exponent\n",
    "results = np.power(base, exponent)\n",
    "print(results)  # Output: [ 8 16 32]"
   ]
  },
  {
   "cell_type": "code",
   "execution_count": null,
   "metadata": {},
   "outputs": [
    {
     "data": {
      "image/png": "[encoded data removed]",
      "text/plain": [
       "<Figure size 640x480 with 1 Axes>"
      ]
     },
     "metadata": {},
     "output_type": "display_data"
    }
   ],
   "source": [
    "#using exponential values in decay signal\n",
    "import numpy as np\n",
    "import matplotlib.pyplot as plt\n",
    "\n",
    "# Parameters\n",
    "amplitude = 10\n",
    "decay_rate = 0.5\n",
    "time_steps = 100\n",
    "\n",
    "# Generate time values\n",
    "time = np.arange(time_steps)\n",
    "\n",
    "# Calculate exponential decay signal\n",
    "signal = amplitude * np.exp(-decay_rate * time)\n",
    "\n",
    "# Plot the signal\n",
    "plt.plot(time, signal)\n",
    "plt.xlabel('Time')\n",
    "plt.ylabel('Amplitude')\n",
    "plt.title('Exponential Decay Signal')\n",
    "plt.grid(True)\n",
    "plt.show()"
   ]
  },
  {
   "cell_type": "code",
   "execution_count": null,
   "metadata": {},
   "outputs": [
    {
     "name": "stdout",
     "output_type": "stream",
     "text": [
      "25\n",
      "7\n"
     ]
    }
   ],
   "source": [
    "#lambda in python\n",
    "# Squaring a number\n",
    "square = lambda x: x**2\n",
    "result = square(5)  # Output: 25\n",
    "print(result)\n",
    "\n",
    "# Adding two numbers\n",
    "add = lambda x, y: x + y\n",
    "result = add(3, 4)  # Output: 7\n",
    "print(result)"
   ]
  },
  {
   "cell_type": "code",
   "execution_count": 13,
   "metadata": {},
   "outputs": [
    {
     "name": "stdout",
     "output_type": "stream",
     "text": [
      "b a\n",
      "b a\n",
      "bamboo\n",
      "bamboo\n",
      "e d\n"
     ]
    }
   ],
   "source": [
    "s3=\"bamboozled\"\n",
    "#extracting ba\n",
    "print(s3[0],s3[1])\n",
    "print(s3[-10],s3[-9])\n",
    "#extract bamboo\n",
    "print(s3[0:6])\n",
    "print(s3[:6])\n",
    "#extract ed\n",
    "print(s3[-2],s3[-1])\n"
   ]
  },
  {
   "cell_type": "code",
   "execution_count": null,
   "metadata": {},
   "outputs": [
    {
     "name": "stdout",
     "output_type": "stream",
     "text": [
      "hooplahooplahoopla\n",
      "helloWorld\n"
     ]
    }
   ],
   "source": [
    "msg1=\"hoopla\"\n",
    "print(msg1*3)   #srring replication \n",
    "msg7=\"hello\"\n",
    "msg8=\"World\"\n",
    "msg9=msg7+msg8   #string concatenation\n",
    "print(msg9)"
   ]
  },
  {
   "cell_type": "code",
   "execution_count": null,
   "metadata": {},
   "outputs": [
    {
     "name": "stdout",
     "output_type": "stream",
     "text": [
      "h\n",
      "e\n",
      "l\n",
      "l\n",
      "o\n"
     ]
    }
   ],
   "source": [
    "#seperating every character in string \n",
    "str=\"hello\"\n",
    "for ch in str:\n",
    "    print(ch)"
   ]
  },
  {
   "cell_type": "code",
   "execution_count": 17,
   "metadata": {},
   "outputs": [
    {
     "name": "stdout",
     "output_type": "stream",
     "text": [
      "True\n",
      "False\n",
      "True\n",
      "False\n"
     ]
    }
   ],
   "source": [
    "s4=\"nitiayog\"\n",
    "print(s4.isalpha())\n",
    "print(s4.isdigit())\n",
    "print(s4.islower())\n",
    "print(s4.isupper())"
   ]
  },
  {
   "cell_type": "code",
   "execution_count": 18,
   "metadata": {},
   "outputs": [
    {
     "name": "stdout",
     "output_type": "stream",
     "text": [
      "True\n",
      "False\n",
      "True\n"
     ]
    }
   ],
   "source": [
    "s5='123456'\n",
    "print(s5.isdigit())\n",
    "print(s5.isalpha())\n",
    "print(s5.isalnum())"
   ]
  },
  {
   "cell_type": "code",
   "execution_count": 20,
   "metadata": {},
   "outputs": [
    {
     "name": "stdout",
     "output_type": "stream",
     "text": [
      "True\n",
      "True\n",
      "False\n",
      "False\n"
     ]
    }
   ],
   "source": [
    "str=\"jay1sehnus\"\n",
    "print(str.endswith(\"nus\"))\n",
    "print(str.startswith(\"jay\"))\n",
    "print(str.isdigit())\n",
    "print(str.isspace())"
   ]
  },
  {
   "cell_type": "code",
   "execution_count": 22,
   "metadata": {},
   "outputs": [
    {
     "name": "stdout",
     "output_type": "stream",
     "text": [
      "7\n",
      "tec is nice\n",
      "0\n"
     ]
    }
   ],
   "source": [
    "s1=\"tec is great\"\n",
    "print(s1.find(\"great\"))\n",
    "print(s1.replace(\"great\",\"nice\"))\n",
    "print(s1.find(\"t\"))"
   ]
  },
  {
   "cell_type": "code",
   "execution_count": null,
   "metadata": {},
   "outputs": [
    {
     "name": "stdout",
     "output_type": "stream",
     "text": [
      "[1, 3, 5, 7, 9, 2, 4, 6, 8]\n",
      "[11, 17, 19, 1, 3, 5, 7, 9]\n",
      "9\n",
      "[2, 4, 6, 8, 11, 12, 13]\n"
     ]
    }
   ],
   "source": [
    "oddnum=[1,3,5,7,9]\n",
    "evennum=[2,4,6,8]\n",
    "cmb=oddnum+evennum # combining lists\n",
    "print(cmb)\n",
    "pm=[11,17,19]+oddnum\n",
    "print(pm)   #adding prime nums to begining of oddnum\n",
    "num=len(cmb)  #report how many elemens are present in the list\n",
    "print(num)\n",
    "evennum[num-3:num]=[11,12,13] #add last three numbers with the 100,200,300\n",
    "print(evennum)\n",
    "#delete list a[:]=[]--> delete all numbers in list\n",
    "#delete a --> deletes the entire list\n"
   ]
  },
  {
   "cell_type": "code",
   "execution_count": null,
   "metadata": {},
   "outputs": [
    {
     "name": "stdout",
     "output_type": "stream",
     "text": [
      "[(1, 5, 9), (2, 6, 10), (3, 7, 11), (4, 8, 12)]\n"
     ]
    }
   ],
   "source": [
    "mat=[[1,2,3,4],[5,6,7,8],[9,10,11,12]]\n",
    "ti=zip(*mat)   #transposing the matrix\n",
    "lst=list(ti)   #zip combines the lists\n",
    "print(lst)"
   ]
  },
  {
   "cell_type": "code",
   "execution_count": 30,
   "metadata": {},
   "outputs": [
    {
     "name": "stdout",
     "output_type": "stream",
     "text": [
      "{33, 70, 40, 10, 44, 50, 51, 20, 60, 30}\n",
      "{50, 10, 20, 30}\n",
      "{40, 60, 70}\n",
      "{33, 51, 44}\n",
      "7\n",
      "70\n",
      "10\n",
      "7\n",
      "51\n",
      "10\n",
      "[10, 20, 30, 33, 44, 50, 51]\n"
     ]
    }
   ],
   "source": [
    "a={10,20,30,40,50,60,70}\n",
    "b={33,44,51,10,20,50,30,33}\n",
    "print(a|b)   #prints unique elements\n",
    "print(a&b)\n",
    "print(a-b)\n",
    "print(b-a)\n",
    "print(len(a))\n",
    "print(max(a))\n",
    "print(min(a))\n",
    "print(len(b))\n",
    "print(max(b))\n",
    "print(min(b))\n",
    "print(sorted(b))"
   ]
  },
  {
   "cell_type": "code",
   "execution_count": 2,
   "metadata": {},
   "outputs": [
    {
     "name": "stdout",
     "output_type": "stream",
     "text": [
      "(12, 15, 13, 22, 16, 17, 3.3, 4.5, 6.6)\n",
      "22\n",
      "3.3\n",
      "[3.3, 4.5, 6.6, 12, 13, 15, 16, 17, 22]\n",
      "109.39999999999999\n",
      "9\n"
     ]
    }
   ],
   "source": [
    "t=(12,15,13,22,16,17)\n",
    "t=t+(3.3,4.5,6.6)\n",
    "print(t)\n",
    "print(max(t))\n",
    "print(min(t))\n",
    "print(sorted(t))\n",
    "print(sum(t))\n",
    "print(len(t))"
   ]
  },
  {
   "cell_type": "code",
   "execution_count": 3,
   "metadata": {},
   "outputs": [
    {
     "name": "stdout",
     "output_type": "stream",
     "text": [
      "10 1.1\n",
      "20 2.2\n",
      "30 3.3\n",
      "40 4.4\n",
      "50 5.5\n"
     ]
    }
   ],
   "source": [
    "##zip-->combine data in a tuple\n",
    "## a list that combines a set of integer elements\n",
    "integers=[10,20,30,40,50]#create a list of integers\n",
    "xfloat=(1.1,2.2,3.3,4.4,5.5)#create a list of floats\n",
    "ti=zip(integers,xfloat)#combining both integer and float in ti-->tuple\n",
    "lst=list(ti)#back to the list format after combination\n",
    "for i,f in lst: #for each and every item in the list\n",
    "    print(i,f)#the value of the list should be printed"
   ]
  },
  {
   "cell_type": "code",
   "execution_count": 5,
   "metadata": {},
   "outputs": [
    {
     "name": "stdout",
     "output_type": "stream",
     "text": [
      "{'amir': 23, 'shaeed': 35}\n"
     ]
    }
   ],
   "source": [
    "#creates a dictionary called student with names and ages\n",
    "students={'amir':23,'shaeed':35}\n",
    "print(students)"
   ]
  },
  {
   "cell_type": "code",
   "execution_count": 6,
   "metadata": {},
   "outputs": [
    {
     "name": "stdout",
     "output_type": "stream",
     "text": [
      "{23: 'finance', 34: 'geography'}\n"
     ]
    }
   ],
   "source": [
    "library={23:'finance',34:'geography'}\n",
    "print(library)"
   ]
  },
  {
   "cell_type": "code",
   "execution_count": 8,
   "metadata": {},
   "outputs": [
    {
     "name": "stdout",
     "output_type": "stream",
     "text": [
      "{'keshav': 23000, 'madhav': 35000, 'vikas': 45000}\n"
     ]
    }
   ],
   "source": [
    "employees={'keshav':23000,'madhav':35000,'vikas':45000}\n",
    "emp=employees\n",
    "employees={}\n",
    "print(emp)\n"
   ]
  },
  {
   "cell_type": "code",
   "execution_count": 9,
   "metadata": {},
   "outputs": [
    {
     "name": "stdout",
     "output_type": "stream",
     "text": [
      "{'kapil': 50, 'sachin': 50, 'sunil': 50, 'rahul': 50}\n"
     ]
    }
   ],
   "source": [
    "#how to set key values\n",
    "#create a list of cricketers. Use this list to create a dictionary in which the list values becomes the key value of the dictionary.\n",
    "#set all the key values to be 50\n",
    "lst={'sunil','sachin','rahul','kapil'}\n",
    "d=dict.fromkeys(lst,50)  #setting key vaalue\n",
    "print(d)"
   ]
  },
  {
   "cell_type": "code",
   "execution_count": 10,
   "metadata": {},
   "outputs": [
    {
     "name": "stdout",
     "output_type": "stream",
     "text": [
      "3\n"
     ]
    }
   ],
   "source": [
    "#create a dict called vacination with id and patient name to determine the length of dict\n",
    "vaccine={3456:'haritha',7643:'rajitha',6511:'sunitha'}\n",
    "print(len(vaccine))"
   ]
  },
  {
   "cell_type": "code",
   "execution_count": 11,
   "metadata": {},
   "outputs": [
    {
     "name": "stdout",
     "output_type": "stream",
     "text": [
      "{'arun': 56, 'dev': 67, 'charan': 44}\n"
     ]
    }
   ],
   "source": [
    "#dictionary comprehension--> combining several values for different containers transfering the values to dict\n",
    "list1=['arun','dev','charan']\n",
    "list2=[56,67,44]\n",
    "d={k:v for(k,v)in zip(list1,list2)}#zip is to combine\n",
    "print(d)"
   ]
  },
  {
   "cell_type": "code",
   "execution_count": null,
   "metadata": {},
   "outputs": [
    {
     "name": "stdout",
     "output_type": "stream",
     "text": [
      "{'mango': 45, 'guava': 33, 'ladysfinger': 22, 'tomato': 12, 'pepsi': 21, 'coke': 11}\n"
     ]
    }
   ],
   "source": [
    "#combining dicionaries \n",
    "d1={'mango':45,'guava':33}\n",
    "d2={'ladysfinger':22,'tomato':12}\n",
    "d3={'pepsi':21,'coke':11}\n",
    "d4={}\n",
    "for d in (d1,d2,d3):\n",
    "    d4.update(d)\n",
    "print(d4)"
   ]
  },
  {
   "cell_type": "code",
   "execution_count": null,
   "metadata": {},
   "outputs": [
    {
     "name": "stdout",
     "output_type": "stream",
     "text": [
      "dictionary not empty\n",
      "the dictionary is empty\n"
     ]
    }
   ],
   "source": [
    "#to check whether the dict is empty or not\n",
    "d1={'asaf':45,'umar':31}\n",
    "if bool(d1):\n",
    "    print(\"dictionary not empty\")\n",
    "d2={}\n",
    "if not bool(d2):\n",
    "    print(\"the dictionary is empty\")"
   ]
  },
  {
   "cell_type": "code",
   "execution_count": 14,
   "metadata": {},
   "outputs": [
    {
     "name": "stdout",
     "output_type": "stream",
     "text": [
      "he\n"
     ]
    }
   ],
   "source": [
    "str=\"hello\"\n",
    "print(str[:2])"
   ]
  },
  {
   "cell_type": "code",
   "execution_count": 15,
   "metadata": {},
   "outputs": [
    {
     "name": "stdout",
     "output_type": "stream",
     "text": [
      "good\n"
     ]
    }
   ],
   "source": [
    "if(9<0) and (0<-9):\n",
    "    print(\"hello\")\n",
    "elif(9>0) or False:\n",
    "    print(\"good\")\n",
    "else:\n",
    "    print(\"bad\")"
   ]
  },
  {
   "cell_type": "code",
   "execution_count": 19,
   "metadata": {},
   "outputs": [
    {
     "name": "stdout",
     "output_type": "stream",
     "text": [
      "Abc def\n"
     ]
    }
   ],
   "source": [
    "print(\"abc DEF\".capitalize())"
   ]
  },
  {
   "cell_type": "code",
   "execution_count": 20,
   "metadata": {},
   "outputs": [
    {
     "name": "stdout",
     "output_type": "stream",
     "text": [
      "2\n"
     ]
    }
   ],
   "source": [
    "s=\"hello\"\n",
    "c=s.count('l')\n",
    "print(c)"
   ]
  },
  {
   "cell_type": "code",
   "execution_count": 21,
   "metadata": {},
   "outputs": [
    {
     "name": "stdout",
     "output_type": "stream",
     "text": [
      "True\n"
     ]
    }
   ],
   "source": [
    "print('ab'.isalpha())"
   ]
  },
  {
   "cell_type": "code",
   "execution_count": 25,
   "metadata": {},
   "outputs": [
    {
     "name": "stdout",
     "output_type": "stream",
     "text": [
      "ue\n",
      "2\n",
      "7\n",
      "WelcomeWelcomeWelcomeWelcome\n",
      "WelcomeGuests\n",
      "ANALYSIS\n",
      "True\n",
      "True\n",
      "True\n",
      "False\n",
      "False\n",
      "False\n",
      "True\n",
      "True\n",
      "True\n",
      "False\n",
      "False\n",
      "False\n",
      "wELCOME\n",
      "aNALYSIS\n"
     ]
    }
   ],
   "source": [
    "str=\"Guests\"\n",
    "str1=\"Welcome\"\n",
    "str2=\"Analysis\"\n",
    "print(str[1:3])\n",
    "print(str1.count('e'))\n",
    "sorted_string = sorted(str2)\n",
    "# Join the sorted characters back into a string\n",
    "ordered_string = ''.join(sorted_string)\n",
    "print(ordered_string.index('y'))\n",
    "print(str1*4)\n",
    "print(str1+str)\n",
    "print(str2.upper())\n",
    "print(str.isalpha())\n",
    "print(str1.isalpha())\n",
    "print(str2.isalpha())\n",
    "print(str.isdigit())\n",
    "print(str1.isdigit())\n",
    "print(str2.isdigit())\n",
    "print(str.isalnum())\n",
    "print(str1.isalnum())\n",
    "print(str2.isalnum())\n",
    "print(str.isspace())\n",
    "print(str1.isspace())\n",
    "print(str2.isspace())\n",
    "print(str1.swapcase())\n",
    "print(str2.swapcase())\n"
   ]
  },
  {
   "cell_type": "code",
   "execution_count": 26,
   "metadata": {},
   "outputs": [
    {
     "data": {
      "text/plain": [
       "['a', 'b', 'c', 'd']"
      ]
     },
     "execution_count": 26,
     "metadata": {},
     "output_type": "execute_result"
    }
   ],
   "source": [
    "list(\"a#b#c#d\".split('#'))"
   ]
  },
  {
   "cell_type": "code",
   "execution_count": 27,
   "metadata": {},
   "outputs": [
    {
     "name": "stdout",
     "output_type": "stream",
     "text": [
      "234566"
     ]
    }
   ],
   "source": [
    "mylist=[1,2,3,4,5,6]\n",
    "for i in range(1,6):\n",
    "    mylist[i-1]=mylist[i]\n",
    "for i in range(0,6):\n",
    "    print(mylist[i],end=\"\")"
   ]
  },
  {
   "cell_type": "code",
   "execution_count": 1,
   "metadata": {},
   "outputs": [
    {
     "name": "stdout",
     "output_type": "stream",
     "text": [
      "{'radar': 33, 'transponder': 45, 'receptor': 72}\n",
      "1\n",
      "1\n"
     ]
    }
   ],
   "source": [
    "#questions a&b\n",
    "measure={\"radar\":33,\"transponder\":45,\"receptor\":72}\n",
    "print(measure)\n",
    "transponder = {\"transponder\": 45}\n",
    "receptor = {\"receptor\": 72}\n",
    "count_transponder = len(transponder)\n",
    "count_receptor = len(receptor)\n",
    "print(count_transponder)\n",
    "print(count_receptor)"
   ]
  },
  {
   "cell_type": "code",
   "execution_count": 2,
   "metadata": {},
   "outputs": [
    {
     "name": "stdout",
     "output_type": "stream",
     "text": [
      "Transmission dictionary: {'radar': 33, 'transponder': 45, 'receptor': 72}\n"
     ]
    }
   ],
   "source": [
    "#question c\n",
    "transmission = {}\n",
    "transmission = {key: value for key, value in measure.items()}\n",
    "print(\"Transmission dictionary:\", transmission)"
   ]
  },
  {
   "cell_type": "code",
   "execution_count": 3,
   "metadata": {},
   "outputs": [
    {
     "name": "stdout",
     "output_type": "stream",
     "text": [
      "Sorted dictionary in descending order: {'receptor': 72, 'transponder': 45, 'radar': 33}\n"
     ]
    }
   ],
   "source": [
    "#question d\n",
    "sorted_measure = {key: value for key, value in sorted(measure.items(), key=lambda item: item[1], reverse=True)}\n",
    "print(\"Sorted dictionary in descending order:\", sorted_measure)"
   ]
  },
  {
   "cell_type": "code",
   "execution_count": 4,
   "metadata": {},
   "outputs": [
    {
     "name": "stdout",
     "output_type": "stream",
     "text": [
      "Grouped by ID range: {'low_range': {'radar': 33}, 'high_range': {'transponder': 45, 'receptor': 72}}\n"
     ]
    }
   ],
   "source": [
    "#question f\n",
    "grouped_by_range = {\n",
    "    \"low_range\": {key: value for key, value in measure.items() if value < 40},\n",
    "    \"high_range\": {key: value for key, value in measure.items() if 40 <= value <= 80}}\n",
    "print(\"Grouped by ID range:\", grouped_by_range)"
   ]
  },
  {
   "cell_type": "code",
   "execution_count": 20,
   "metadata": {},
   "outputs": [
    {
     "name": "stdout",
     "output_type": "stream",
     "text": [
      "1 \n",
      "2 2 \n",
      "3 3 3 \n",
      "4 4 4 4 \n",
      "5 5 5 5 5 \n",
      "6 6 6 6 6 6 \n",
      "7 7 7 7 7 7 7 \n"
     ]
    }
   ],
   "source": [
    "n = int(input())\n",
    "i = 1\n",
    "while i <= n:\n",
    " j = 1\n",
    " while j <= i:\n",
    "    print(i, end=\" \")\n",
    "    j = j + 1\n",
    " print()\n",
    " i = i + 1"
   ]
  },
  {
   "cell_type": "code",
   "execution_count": 19,
   "metadata": {},
   "outputs": [
    {
     "name": "stdout",
     "output_type": "stream",
     "text": [
      "1 \n",
      "2 1 \n",
      "3 2 1 \n",
      "4 3 2 1 \n",
      "5 4 3 2 1 \n",
      "6 5 4 3 2 1 \n",
      "7 6 5 4 3 2 1 \n"
     ]
    }
   ],
   "source": [
    "n= int(input())\n",
    "i = 1\n",
    "while i<=n:\n",
    "   j = i\n",
    "   while j >= 1:\n",
    "     print(j, end=\" \")\n",
    "     j -= 1\n",
    "   print()\n",
    "   i +=1"
   ]
  },
  {
   "cell_type": "code",
   "execution_count": 22,
   "metadata": {},
   "outputs": [
    {
     "name": "stdout",
     "output_type": "stream",
     "text": [
      "0\n",
      "1\n",
      "4\n",
      "9\n",
      "16\n",
      "25\n"
     ]
    }
   ],
   "source": [
    "n=int(input())\n",
    "for i in range(n+1):\n",
    "    print(i*i)"
   ]
  },
  {
   "cell_type": "code",
   "execution_count": null,
   "metadata": {},
   "outputs": [
    {
     "name": "stdout",
     "output_type": "stream",
     "text": [
      "0\n",
      "1\n",
      "4\n",
      "9\n",
      "16\n",
      "25\n"
     ]
    }
   ],
   "source": [
    "#using generator\n",
    "def square_generator(n):\n",
    "    for i in range(n+1):\n",
    "        yield i**2\n",
    "for square in square_generator(5):\n",
    "     print(square)"
   ]
  },
  {
   "cell_type": "code",
   "execution_count": 34,
   "metadata": {},
   "outputs": [
    {
     "name": "stdout",
     "output_type": "stream",
     "text": [
      "10\n",
      "20\n",
      "30\n",
      "40\n",
      "50\n"
     ]
    }
   ],
   "source": [
    "#using iterator\n",
    "def my_iterator(data):\n",
    "    for item in data:\n",
    "        yield item\n",
    "my_list=[10,20,30,40,50]\n",
    "iterator= my_iterator(my_list)\n",
    "for item in iterator:\n",
    "    print(item)"
   ]
  },
  {
   "cell_type": "code",
   "execution_count": null,
   "metadata": {},
   "outputs": [
    {
     "name": "stdout",
     "output_type": "stream",
     "text": [
      "400\n",
      "200\n"
     ]
    }
   ],
   "source": [
    "#usage of decorators\n",
    "def decor1(func):\n",
    "    def inner():\n",
    "        x=func()\n",
    "        return x*x\n",
    "    return inner\n",
    "def decor(func):\n",
    "    def inner():\n",
    "        x=func()\n",
    "        return 2*x\n",
    "    return inner\n",
    "@decor1\n",
    "@decor\n",
    "def num():\n",
    "    return 10\n",
    "@decor\n",
    "@decor1\n",
    "def num2():\n",
    "    return 10\n",
    "print(num())\n",
    "print(num2())"
   ]
  },
  {
   "cell_type": "code",
   "execution_count": null,
   "metadata": {},
   "outputs": [
    {
     "name": "stdout",
     "output_type": "stream",
     "text": [
      "Hello Alice\n",
      "Hi Bob\n"
     ]
    }
   ],
   "source": [
    "#function with default args\n",
    "def greet(name,greeting=\"Hello\"):\n",
    "    print(greeting,name)\n",
    "greet(\"Alice\")\n",
    "greet(\"Bob\",\"Hi\")"
   ]
  },
  {
   "cell_type": "code",
   "execution_count": 46,
   "metadata": {},
   "outputs": [
    {
     "name": "stdout",
     "output_type": "stream",
     "text": [
      "15\n"
     ]
    }
   ],
   "source": [
    "#function with variable length args\n",
    "def sum_numbers(*args):\n",
    "    total=0\n",
    "    for num in args:\n",
    "        total+=num\n",
    "    return total\n",
    "result=sum_numbers(1,2,3,4,5)\n",
    "print(result)"
   ]
  },
  {
   "cell_type": "code",
   "execution_count": 47,
   "metadata": {},
   "outputs": [
    {
     "name": "stdout",
     "output_type": "stream",
     "text": [
      "3 1\n"
     ]
    }
   ],
   "source": [
    "#funtion returning multiple values:\n",
    "def divide(a,b):\n",
    "    quotient=a//b\n",
    "    remainder=a%b\n",
    "    return quotient, remainder\n",
    "q,r=divide(10,3)\n",
    "print(q,r)"
   ]
  },
  {
   "cell_type": "code",
   "execution_count": 48,
   "metadata": {},
   "outputs": [
    {
     "name": "stdout",
     "output_type": "stream",
     "text": [
      "Total fare: 124.0\n"
     ]
    }
   ],
   "source": [
    "def calculate_fare(distance, hours, rate_per_hour):\n",
    "  \"\"\"Calculates the total fare for a taxi ride.\n",
    "\n",
    "  Args:\n",
    "    distance: Distance traveled in kilometers.\n",
    "    hours: Duration of the ride in hours.\n",
    "    rate_per_hour: Base rate per hour.\n",
    "\n",
    "  Returns:\n",
    "    Total fare for the ride.\n",
    "  \"\"\"\n",
    "\n",
    "  # Assuming a base rate per kilometer\n",
    "  base_rate_per_km = 10  # Adjust as needed\n",
    "\n",
    "  # Calculate the distance-based fare\n",
    "  distance_fare = distance * base_rate_per_km\n",
    "\n",
    "  # Calculate the time-based fare\n",
    "  time_fare = hours * rate_per_hour\n",
    "\n",
    "  # Calculate the total fare\n",
    "  total_fare = distance_fare + time_fare\n",
    "\n",
    "  return total_fare\n",
    "\n",
    "# Get input from the user\n",
    "distance = float(input(\"Enter the distance traveled (in km): \"))\n",
    "hours = float(input(\"Enter the duration of the ride (in hours): \"))\n",
    "rate_per_hour = float(input(\"Enter the rate per hour: \"))\n",
    "\n",
    "# Calculate the fare\n",
    "total_fare = calculate_fare(distance, hours, rate_per_hour)\n",
    "\n",
    "# Print the total fare\n",
    "print(\"Total fare:\", total_fare)"
   ]
  },
  {
   "cell_type": "code",
   "execution_count": null,
   "metadata": {},
   "outputs": [
    {
     "name": "stdout",
     "output_type": "stream",
     "text": [
      "0\n",
      "1\n",
      "1\n",
      "2\n",
      "3\n",
      "5\n",
      "8\n",
      "13\n",
      "21\n",
      "34\n",
      "55\n"
     ]
    }
   ],
   "source": [
    "#recurssion in fibonacci\n",
    "def fibonacci(n):\n",
    "    if n<=1:\n",
    "        return n\n",
    "    else:\n",
    "        return fibonacci(n-1)+fibonacci(n-2)\n",
    "for i in range(11):\n",
    "    print(fibonacci(i))"
   ]
  },
  {
   "cell_type": "code",
   "execution_count": 3,
   "metadata": {},
   "outputs": [
    {
     "name": "stdout",
     "output_type": "stream",
     "text": [
      "25\n"
     ]
    }
   ],
   "source": [
    "square=lambda x:x*x\n",
    "result=square(5)\n",
    "print(result)"
   ]
  },
  {
   "cell_type": "code",
   "execution_count": null,
   "metadata": {},
   "outputs": [
    {
     "name": "stdout",
     "output_type": "stream",
     "text": [
      "go\n"
     ]
    }
   ],
   "source": [
    "#traffic lights\n",
    "ts=str(input(\"Enter character:\"))\n",
    "if(ts=='g'):\n",
    "    print(\"go\")\n",
    "elif(ts=='r'):\n",
    "    print(\"stop\")\n",
    "else:\n",
    "    print(\"Get ready\")"
   ]
  },
  {
   "cell_type": "code",
   "execution_count": 13,
   "metadata": {},
   "outputs": [
    {
     "name": "stdout",
     "output_type": "stream",
     "text": [
      "Go\n"
     ]
    }
   ],
   "source": [
    "traffic_light_status = lambda ts: \"Go\" if ts == 'g' else \"Stop\" if ts == 'r' else \"Get Ready\"\n",
    "\n",
    "ts = input(\"Enter character:\")\n",
    "print(traffic_light_status(ts))"
   ]
  },
  {
   "cell_type": "code",
   "execution_count": 36,
   "metadata": {},
   "outputs": [
    {
     "name": "stdout",
     "output_type": "stream",
     "text": [
      "Fraud Detected!\n"
     ]
    }
   ],
   "source": [
    "fraud_detection = lambda n: \"Valid\" if (97 <= ord(n) <= 122) or (65 <= ord(n) <= 90) and ('@','$') else \"Fraud Detected!\"\n",
    "n = input(\"Enter character:\")\n",
    "print(fraud_detection(n))\n"
   ]
  },
  {
   "cell_type": "code",
   "execution_count": 31,
   "metadata": {},
   "outputs": [
    {
     "name": "stdout",
     "output_type": "stream",
     "text": [
      "The sum is: 12\n"
     ]
    }
   ],
   "source": [
    "# Define a lambda function for addition\n",
    "add = lambda x, y: x + y\n",
    "\n",
    "# Use the lambda function\n",
    "result = add(5, 7)\n",
    "print(\"The sum is:\", result)"
   ]
  },
  {
   "cell_type": "code",
   "execution_count": null,
   "metadata": {},
   "outputs": [
    {
     "name": "stdout",
     "output_type": "stream",
     "text": [
      "Fraud Detected!\n"
     ]
    }
   ],
   "source": [
    "#LAMBDA FUNCTION IN FRAUD DETECTION\n",
    "import re\n",
    "\n",
    "fraud_detection = lambda s: \"Valid\" if re.match(r'^[a-zA-Z0-9,@,.]+$', s) else \"Fraud Detected!\"\n",
    "n = input(\"Enter a string: \")\n",
    "print(fraud_detection(n))"
   ]
  },
  {
   "cell_type": "code",
   "execution_count": null,
   "metadata": {},
   "outputs": [
    {
     "name": "stdout",
     "output_type": "stream",
     "text": [
      "s\\][';.,is an invalid email address\n"
     ]
    }
   ],
   "source": [
    "#checking email \n",
    "import re\n",
    "\n",
    "email_pattern=r\"^[a-zA-Z0-9._%+-]+@[a-zA-Z0-9,-]+\\.[a-zA-Z]{2,}$\"\n",
    "email=input()\n",
    "if re.match(email_pattern,email):\n",
    "    print(f\"{email}is valid email address\")\n",
    "else:\n",
    "    print(f\"{email}is an invalid email address\")"
   ]
  },
  {
   "cell_type": "code",
   "execution_count": null,
   "metadata": {},
   "outputs": [
    {
     "name": "stdout",
     "output_type": "stream",
     "text": [
      "[1, 4, 9, 16, 25]\n"
     ]
    }
   ],
   "source": [
    "#implementing map function \n",
    "def square(x):\n",
    "    return x**2\n",
    "numbers=[1,2,3,4,5]\n",
    "squared_numbers=map(square, numbers)\n",
    "print(list(squared_numbers))"
   ]
  },
  {
   "cell_type": "code",
   "execution_count": null,
   "metadata": {},
   "outputs": [],
   "source": []
  }
 ],
 "metadata": {
  "kernelspec": {
   "display_name": "Python 3",
   "language": "python",
   "name": "python3"
  },
  "language_info": {
   "codemirror_mode": {
    "name": "ipython",
    "version": 3
   },
   "file_extension": ".py",
   "mimetype": "text/x-python",
   "name": "python",
   "nbconvert_exporter": "python",
   "pygments_lexer": "ipython3",
   "version": "3.12.0"
  }
 },
 "nbformat": 4,
 "nbformat_minor": 2
}
